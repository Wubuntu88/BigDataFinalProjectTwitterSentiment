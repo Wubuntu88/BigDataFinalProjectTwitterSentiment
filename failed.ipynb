{
 "cells": [
  {
   "cell_type": "code",
   "execution_count": 1,
   "metadata": {
    "collapsed": true
   },
   "outputs": [],
   "source": [
    "import sys\n",
    "import json\n",
    "import matplotlib.pyplot as plt\n",
    "import numpy as np\n",
    "import re\n",
    "import statistics as st"
   ]
  },
  {
   "cell_type": "code",
   "execution_count": 2,
   "metadata": {
    "collapsed": true
   },
   "outputs": [],
   "source": [
    "emoji_dict = {'😌': 1, '😤': -2, '😍': 2, '😚': 2, '😭': -2, '😔': -1,\n",
    "                  '🙈': -1, '😓': -1, '😃': 2, '😋': 2, '😻': 2, '😘': 2, '☺️': 2,\n",
    "                  '💔': -2, '💗': 1, '💖': 1, '❤️': 1, '💕': 1, '✨': 1, '🌟': 1,\n",
    "                  '😊': 1, '😁': -2, '😜': 1, '😒': -1, '🎉': 2, '😹': 1, '👏': 1,\n",
    "                  '🙉': -1, '😆': 1, '🙀': -1, '💝': 1, '💋': 1, '👊': -1, '😋': 1,\n",
    "                  '😎': 2, '😈': -1, '🎈': 1, '💞': 1, '💀': -3, '😩': -2, '😢': -2,\n",
    "                  '💓': 1, '💍': 1, '👼': 1, '😕': -1, '😟': -1, '👍': 1, '👌': 1,\n",
    "                  '💛': 1, '😐': -1, '💚': 1, '🔥': -2, '👑': 1, '😣': -1, '🙏': 1,\n",
    "                  '😾': -2, '😳': -1, '✌️': 2, '☺️': 1, '😷': -3, '😨': -1, '🍫': 1,\n",
    "                  '😮': -1, '😱': -1, '🍕': 1, '😼': -1, '💎': 1, '☀️': 1, '😏': 1,\n",
    "                  '🙊': -1, '💙': 1, '🐱': 1, '💣': -2, '🏆': 1, '😡': -2, '💟': 1,\n",
    "                  '😶': -1, '💓': 1, '🌹': 1, '😰': -1, '😖': -2, '😝': -1, '😙': 2,\n",
    "                  '🎂': 1, '🎁': 1, '🎊': 1, '😛': 1, '😠': -1, '💰': 1}"
   ]
  },
  {
   "cell_type": "code",
   "execution_count": 4,
   "metadata": {
    "collapsed": false
   },
   "outputs": [],
   "source": [
    "outcomes = []\n",
    "sentiment_level = 0\n",
    "en_tweet_count = 0\n",
    "sent_freq = 0"
   ]
  },
  {
   "cell_type": "code",
   "execution_count": 14,
   "metadata": {
    "collapsed": true
   },
   "outputs": [],
   "source": [
    "# file\n",
    "tweet_file = open('Twitter/eclipse01.txt')"
   ]
  },
  {
   "cell_type": "code",
   "execution_count": 11,
   "metadata": {
    "collapsed": true
   },
   "outputs": [],
   "source": [
    "tweet_file.close()"
   ]
  },
  {
   "cell_type": "code",
   "execution_count": 15,
   "metadata": {
    "collapsed": false,
    "scrolled": true
   },
   "outputs": [
    {
     "ename": "NameError",
     "evalue": "name 'b' is not defined",
     "output_type": "error",
     "traceback": [
      "\u001b[0;31m---------------------------------------------------------------------------\u001b[0m",
      "\u001b[0;31mNameError\u001b[0m                                 Traceback (most recent call last)",
      "\u001b[0;32m<ipython-input-15-c21dee9aff2b>\u001b[0m in \u001b[0;36m<module>\u001b[0;34m()\u001b[0m\n\u001b[1;32m     17\u001b[0m     \u001b[0msent_found\u001b[0m \u001b[0;34m=\u001b[0m \u001b[0;32mFalse\u001b[0m\u001b[0;34m\u001b[0m\u001b[0m\n\u001b[1;32m     18\u001b[0m     \u001b[0;32mfor\u001b[0m \u001b[0mkey\u001b[0m \u001b[0;32min\u001b[0m \u001b[0memoji_dict\u001b[0m\u001b[0;34m.\u001b[0m\u001b[0mkeys\u001b[0m\u001b[0;34m(\u001b[0m\u001b[0;34m)\u001b[0m\u001b[0;34m:\u001b[0m\u001b[0;34m\u001b[0m\u001b[0m\n\u001b[0;32m---> 19\u001b[0;31m         \u001b[0mregex\u001b[0m \u001b[0;34m=\u001b[0m \u001b[0mre\u001b[0m\u001b[0;34m.\u001b[0m\u001b[0mcompile\u001b[0m\u001b[0;34m(\u001b[0m\u001b[0mb\u001b[0m\u001b[0;34m(\u001b[0m\u001b[0;34m\"%s\"\u001b[0m \u001b[0;34m%\u001b[0m \u001b[0mkey\u001b[0m\u001b[0;34m)\u001b[0m\u001b[0;34m)\u001b[0m\u001b[0;34m\u001b[0m\u001b[0m\n\u001b[0m\u001b[1;32m     20\u001b[0m         \u001b[0;31m#matches = re.findall(, encoded_text)  # list words matched\u001b[0m\u001b[0;34m\u001b[0m\u001b[0;34m\u001b[0m\u001b[0m\n\u001b[1;32m     21\u001b[0m         \u001b[0mmatches\u001b[0m \u001b[0;34m=\u001b[0m \u001b[0mregex\u001b[0m\u001b[0;34m.\u001b[0m\u001b[0mfindall\u001b[0m\u001b[0;34m(\u001b[0m\u001b[0mencoded_text\u001b[0m\u001b[0;34m)\u001b[0m\u001b[0;34m\u001b[0m\u001b[0m\n",
      "\u001b[0;31mNameError\u001b[0m: name 'b' is not defined"
     ]
    }
   ],
   "source": [
    "tweet_list = []\n",
    "for line in tweet_file:\n",
    "    tweet_info = json.loads(line)\n",
    "    tweet_list.append(tweet_info)\n",
    "\n",
    "for tweet in tweet_list: #tweet is a dictionary\n",
    "    if 'lang' not in tweet:\n",
    "        continue\n",
    "    elif tweet['lang'] != 'en':\n",
    "        sentiment_level = 0\n",
    "        continue\n",
    "\n",
    "    if 'text' not in tweet:\n",
    "        continue\n",
    "\n",
    "    encoded_text = tweet['text'].encode('utf-8')\n",
    "    sent_found = False\n",
    "    for key in emoji_dict.keys():\n",
    "        matches = re.findall(key, encoded_text)  # list words matched\n",
    "        count = len(matches)\n",
    "        if count:\n",
    "            sent_found = True\n",
    "            sentiment_level += emoji_dict[key]*count\n",
    "    if sent_found:\n",
    "        sent_freq += 1\n",
    "        #print \"--------------TWEET WITH SENT----------------\"\n",
    "        #print encoded_text\n",
    "        #print \"sent level: \" + str(sentiment_level)\n",
    "        sent_found = False\n",
    "    en_tweet_count += 1\n",
    "    outcomes.append(sentiment_level)\n",
    "    sentiment_level = 0\n",
    "print('tweet_count: ' + str(en_tweet_count))\n",
    "print('sent_freq: ' + str(sent_freq))\n",
    "mean = st.mean(outcomes)\n",
    "stdev = st.stdev(outcomes)\n",
    "print('mean: ' + str(mean))\n",
    "print('stdev: ' + str(stdev))"
   ]
  },
  {
   "cell_type": "code",
   "execution_count": null,
   "metadata": {
    "collapsed": true
   },
   "outputs": [],
   "source": [
    "my_range = np.arange(int(min(outcomes)), int(max(outcomes)) + 1, 1)\n",
    "plt.hist(outcomes, bins=my_range)\n",
    "plt.xticks(my_range)\n",
    "plt.xlabel(\"tweet sentiment score\")\n",
    "plt.ylabel(\"quantity of given sentiment\")\n",
    "plt.show()\n",
    "\n",
    "tweet_file.close()"
   ]
  }
 ],
 "metadata": {
  "kernelspec": {
   "display_name": "Python 3",
   "language": "python",
   "name": "python3"
  },
  "language_info": {
   "codemirror_mode": {
    "name": "ipython",
    "version": 3
   },
   "file_extension": ".py",
   "mimetype": "text/x-python",
   "name": "python",
   "nbconvert_exporter": "python",
   "pygments_lexer": "ipython3",
   "version": "3.4.3"
  }
 },
 "nbformat": 4,
 "nbformat_minor": 0
}
